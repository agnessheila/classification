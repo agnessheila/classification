{
  "nbformat": 4,
  "nbformat_minor": 0,
  "metadata": {
    "colab": {
      "name": "Untitled1.ipynb",
      "version": "0.3.2",
      "provenance": [],
      "include_colab_link": true
    },
    "kernelspec": {
      "name": "python3",
      "display_name": "Python 3"
    }
  },
  "cells": [
    {
      "cell_type": "markdown",
      "metadata": {
        "id": "view-in-github",
        "colab_type": "text"
      },
      "source": [
        "<a href=\"https://colab.research.google.com/github/agnessheila/classification/blob/master/Untitled1.ipynb\" target=\"_parent\"><img src=\"https://colab.research.google.com/assets/colab-badge.svg\" alt=\"Open In Colab\"/></a>"
      ]
    },
    {
      "metadata": {
        "id": "oamWdpiwvevM",
        "colab_type": "code",
        "colab": {}
      },
      "cell_type": "code",
      "source": [
        "# import the necessary packages\n",
        "import numpy as np\n",
        "import cv2\n",
        "import matplotlib.pyplot as plt"
      ],
      "execution_count": 0,
      "outputs": []
    },
    {
      "metadata": {
        "id": "6t_6I6mavjmF",
        "colab_type": "code",
        "colab": {}
      },
      "cell_type": "code",
      "source": [
        "!git clone https://github.com/agnessheila/Classification.git"
      ],
      "execution_count": 0,
      "outputs": []
    },
    {
      "metadata": {
        "id": "gisxQuB0vmoj",
        "colab_type": "code",
        "colab": {}
      },
      "cell_type": "code",
      "source": [
        "# initialize the class labels and set the seed of the pseudorandom\n",
        "# number generator so we can reproduce our results\n",
        "labels = [\"dog\", \"cat\", \"panda\"]\n",
        "np.random.seed(5)\n",
        "\n",
        "# randomly initialize our weight matrix and bias vector -- in a\n",
        "# *real* training and classification task, these parameters would\n",
        "# be *learned* by our model, but for the sake of this example,\n",
        "# let's use random values\n",
        "W = np.random.randn(3, 3072)\n",
        "b = np.random.randn(3)\n",
        "\n",
        "# load our example image, resize it, and then flatten it into our\n",
        "# \"feature vector\" representation\n",
        "orig = cv2.imread(\"Linear_Classification/beagle.png\")\n",
        "image = cv2.resize(orig, (32, 32)).flatten()"
      ],
      "execution_count": 0,
      "outputs": []
    },
    {
      "metadata": {
        "id": "YWQA4QNcvp10",
        "colab_type": "code",
        "colab": {}
      },
      "cell_type": "code",
      "source": [
        "# compute the output scores by taking the dot product between the\n",
        "# weight matrix and image pixels, followed by adding in the bias\n",
        "scores = W.dot(image) + b"
      ],
      "execution_count": 0,
      "outputs": []
    },
    {
      "metadata": {
        "id": "6Dvl1xOmvwf1",
        "colab_type": "code",
        "colab": {}
      },
      "cell_type": "code",
      "source": [
        "# loop over the scores + labels and display them\n",
        "for (label, score) in zip(labels, scores):\n",
        "\tprint(\"[INFO] {}: {:.2f}\".format(label, score))\n",
        "\n",
        "# draw the label with the highest score on the image as our\n",
        "# prediction\n",
        "cv2.putText(orig, \"Label: {}\".format(labels[np.argmax(scores)]),\n",
        "\t(10, 30), cv2.FONT_HERSHEY_SIMPLEX, 0.9, (0, 255, 0), 2)"
      ],
      "execution_count": 0,
      "outputs": []
    }
  ]
}